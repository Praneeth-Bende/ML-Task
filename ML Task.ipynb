{
 "cells": [
  {
   "cell_type": "code",
   "execution_count": 5,
   "id": "1236a936",
   "metadata": {},
   "outputs": [],
   "source": [
    "import pandas as pd\n",
    "transaction_data = pd.read_csv(\"transaction_data.csv\")\n",
    "purchase_behaviour = pd.read_csv(\"purchase_behaviour.csv\")"
   ]
  },
  {
   "cell_type": "code",
   "execution_count": 7,
   "id": "e6972fe4",
   "metadata": {},
   "outputs": [
    {
     "name": "stdout",
     "output_type": "stream",
     "text": [
      "    DATE  STORE_NBR  LYLTY_CARD_NBR  TXN_ID  PROD_NBR  \\\n",
      "0  43390          1            1000       1         5   \n",
      "1  43599          1            1307     348        66   \n",
      "2  43605          1            1343     383        61   \n",
      "3  43329          2            2373     974        69   \n",
      "4  43330          2            2426    1038       108   \n",
      "\n",
      "                                  PROD_NAME  PROD_QTY  TOT_SALES  \n",
      "0    Natural Chip        Compny SeaSalt175g         2        6.0  \n",
      "1                  CCs Nacho Cheese    175g         3        6.3  \n",
      "2    Smiths Crinkle Cut  Chips Chicken 170g         2        2.9  \n",
      "3    Smiths Chip Thinly  S/Cream&Onion 175g         5       15.0  \n",
      "4  Kettle Tortilla ChpsHny&Jlpno Chili 150g         3       13.8  \n"
     ]
    }
   ],
   "source": [
    "# print(transaction_data.info())\n",
    "print(transaction_data.head())"
   ]
  },
  {
   "cell_type": "code",
   "execution_count": 8,
   "id": "357820c1",
   "metadata": {},
   "outputs": [
    {
     "name": "stdout",
     "output_type": "stream",
     "text": [
      "   LYLTY_CARD_NBR               LIFESTAGE PREMIUM_CUSTOMER\n",
      "0            1000   YOUNG SINGLES/COUPLES          Premium\n",
      "1            1002   YOUNG SINGLES/COUPLES       Mainstream\n",
      "2            1003          YOUNG FAMILIES           Budget\n",
      "3            1004   OLDER SINGLES/COUPLES       Mainstream\n",
      "4            1005  MIDAGE SINGLES/COUPLES       Mainstream\n"
     ]
    }
   ],
   "source": [
    "# print(purchase_behaviour.info())\n",
    "print(purchase_behaviour.head())"
   ]
  },
  {
   "cell_type": "code",
   "execution_count": 9,
   "id": "3009100f",
   "metadata": {},
   "outputs": [
    {
     "name": "stdout",
     "output_type": "stream",
     "text": [
      "Top 3 Most Profitable Products:\n",
      " PROD_NAME\n",
      "Dorito Corn Chp     Supreme 380g            40352.0\n",
      "Smiths Crnkle Chip  Orgnl Big Bag 380g      36367.6\n",
      "Smiths Crinkle Chips Salt & Vinegar 330g    34804.2\n",
      "Name: TOT_SALES, dtype: float64\n"
     ]
    }
   ],
   "source": [
    "# Compute total sales per product\n",
    "top_products = transaction_data.groupby(\"PROD_NAME\")[\"TOT_SALES\"].sum().nlargest(3)\n",
    "print(\"Top 3 Most Profitable Products:\\n\", top_products)"
   ]
  },
  {
   "cell_type": "code",
   "execution_count": 15,
   "id": "4d60765d",
   "metadata": {},
   "outputs": [
    {
     "name": "stdout",
     "output_type": "stream",
     "text": [
      "Top 10 Most Loyal Customers:\n",
      " Index([172032, 162039, 230078, 128178, 13138, 116181, 222242, 94185, 113080,\n",
      "       109036],\n",
      "      dtype='int64', name='LYLTY_CARD_NBR')\n"
     ]
    }
   ],
   "source": [
    "# Find the most frequent customer\n",
    "loyal_customers = transaction_data[\"LYLTY_CARD_NBR\"].value_counts().nlargest(10).index\n",
    "print(\"Top 10 Most Loyal Customers:\\n\", loyal_customers)"
   ]
  },
  {
   "cell_type": "code",
   "execution_count": 16,
   "id": "4465267e",
   "metadata": {},
   "outputs": [
    {
     "name": "stdout",
     "output_type": "stream",
     "text": [
      "    DATE  STORE_NBR  LYLTY_CARD_NBR  TXN_ID  PROD_NBR  \\\n",
      "0  43390          1            1000       1         5   \n",
      "1  43599          1            1307     348        66   \n",
      "2  43605          1            1343     383        61   \n",
      "3  43329          2            2373     974        69   \n",
      "4  43330          2            2426    1038       108   \n",
      "\n",
      "                                  PROD_NAME  PROD_QTY  TOT_SALES  \\\n",
      "0    Natural Chip        Compny SeaSalt175g         2        6.0   \n",
      "1                  CCs Nacho Cheese    175g         3        6.3   \n",
      "2    Smiths Crinkle Cut  Chips Chicken 170g         2        2.9   \n",
      "3    Smiths Chip Thinly  S/Cream&Onion 175g         5       15.0   \n",
      "4  Kettle Tortilla ChpsHny&Jlpno Chili 150g         3       13.8   \n",
      "\n",
      "                LIFESTAGE PREMIUM_CUSTOMER  \n",
      "0   YOUNG SINGLES/COUPLES          Premium  \n",
      "1  MIDAGE SINGLES/COUPLES           Budget  \n",
      "2  MIDAGE SINGLES/COUPLES           Budget  \n",
      "3  MIDAGE SINGLES/COUPLES           Budget  \n",
      "4  MIDAGE SINGLES/COUPLES           Budget  \n"
     ]
    }
   ],
   "source": [
    "# Merge transaction and customer data\n",
    "merged_data = transaction_data.merge(purchase_behaviour, on=\"LYLTY_CARD_NBR\", how=\"left\")\n",
    "print(merged_data.head())"
   ]
  },
  {
   "cell_type": "code",
   "execution_count": 17,
   "id": "6ee190c3",
   "metadata": {},
   "outputs": [],
   "source": [
    "from sklearn.cluster import KMeans\n",
    "from sklearn.preprocessing import StandardScaler"
   ]
  },
  {
   "cell_type": "code",
   "execution_count": 18,
   "id": "a19999d1",
   "metadata": {},
   "outputs": [],
   "source": [
    "# Aggregate customer spending and transactions\n",
    "customer_stats = merged_data.groupby(\"LYLTY_CARD_NBR\").agg(\n",
    "    total_spent=(\"TOT_SALES\", \"sum\"),\n",
    "    total_transactions=(\"TXN_ID\", \"count\")\n",
    ").reset_index()"
   ]
  },
  {
   "cell_type": "code",
   "execution_count": 19,
   "id": "8d682106",
   "metadata": {},
   "outputs": [],
   "source": [
    "scaler = StandardScaler()\n",
    "customer_stats_scaled = scaler.fit_transform(customer_stats[[\"total_spent\", \"total_transactions\"]])"
   ]
  },
  {
   "cell_type": "code",
   "execution_count": 20,
   "id": "8edfca46",
   "metadata": {},
   "outputs": [
    {
     "name": "stdout",
     "output_type": "stream",
     "text": [
      "Customer Clusters:\n",
      "    LYLTY_CARD_NBR  total_spent  total_transactions  cluster\n",
      "0            1000          6.0                   1        2\n",
      "1            1002          2.7                   1        2\n",
      "2            1003          6.6                   2        2\n",
      "3            1004          1.9                   1        2\n",
      "4            1005          2.8                   1        2\n"
     ]
    }
   ],
   "source": [
    "kmeans = KMeans(n_clusters=3, random_state=42, n_init=10)\n",
    "customer_stats[\"cluster\"] = kmeans.fit_predict(customer_stats_scaled)\n",
    "print(\"Customer Clusters:\\n\", customer_stats.head())"
   ]
  },
  {
   "cell_type": "code",
   "execution_count": 21,
   "id": "be58e784",
   "metadata": {},
   "outputs": [
    {
     "name": "stdout",
     "output_type": "stream",
     "text": [
      "Customer Cluster Summary:\n",
      "     cluster               LIFESTAGE PREMIUM_CUSTOMER  count\n",
      "0         0  MIDAGE SINGLES/COUPLES           Budget    545\n",
      "1         0  MIDAGE SINGLES/COUPLES       Mainstream   1253\n",
      "2         0  MIDAGE SINGLES/COUPLES          Premium    857\n",
      "3         0            NEW FAMILIES           Budget    390\n",
      "4         0            NEW FAMILIES       Mainstream    314\n",
      "..      ...                     ...              ...    ...\n",
      "58        2          YOUNG FAMILIES       Mainstream   1090\n",
      "59        2          YOUNG FAMILIES          Premium   1000\n",
      "60        2   YOUNG SINGLES/COUPLES           Budget   2799\n",
      "61        2   YOUNG SINGLES/COUPLES       Mainstream   5465\n",
      "62        2   YOUNG SINGLES/COUPLES          Premium   1882\n",
      "\n",
      "[63 rows x 4 columns]\n"
     ]
    }
   ],
   "source": [
    "# Merge clusters back to customer demographics\n",
    "clustered_customers = customer_stats.merge(purchase_behaviour, on=\"LYLTY_CARD_NBR\", how=\"left\")\n",
    "\n",
    "# Summarize clusters\n",
    "cluster_summary = clustered_customers.groupby([\"cluster\", \"LIFESTAGE\", \"PREMIUM_CUSTOMER\"]).size().reset_index(name=\"count\")\n",
    "print(\"Customer Cluster Summary:\\n\", cluster_summary)"
   ]
  },
  {
   "cell_type": "code",
   "execution_count": null,
   "id": "408c1590",
   "metadata": {},
   "outputs": [],
   "source": []
  }
 ],
 "metadata": {
  "kernelspec": {
   "display_name": "Python 3 (ipykernel)",
   "language": "python",
   "name": "python3"
  },
  "language_info": {
   "codemirror_mode": {
    "name": "ipython",
    "version": 3
   },
   "file_extension": ".py",
   "mimetype": "text/x-python",
   "name": "python",
   "nbconvert_exporter": "python",
   "pygments_lexer": "ipython3",
   "version": "3.11.9"
  }
 },
 "nbformat": 4,
 "nbformat_minor": 5
}
